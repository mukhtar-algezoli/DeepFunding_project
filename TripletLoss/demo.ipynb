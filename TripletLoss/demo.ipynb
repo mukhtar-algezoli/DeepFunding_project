{
 "cells": [
  {
   "cell_type": "code",
   "execution_count": null,
   "metadata": {},
   "outputs": [],
   "source": [
    "from network import get_sts_model\n",
    "from triplet_dataset import TripletDataset\n",
    "model_path = 'ammarnasr/LoRa_all-MiniLM-L12-v1'\n",
    "model = get_sts_model(model_path)\n",
    "tokenizer = model.tokenizer"
   ]
  },
  {
   "cell_type": "code",
   "execution_count": null,
   "metadata": {},
   "outputs": [],
   "source": [
    "train_dataset = TripletDataset(None, tokenizer=tokenizer, using_allnli=True)\n",
    "sample_batch = next(iter(train_dataset))\n"
   ]
  },
  {
   "cell_type": "code",
   "execution_count": null,
   "metadata": {},
   "outputs": [],
   "source": [
    "import modeltraining \n",
    "from peft import LoraConfig\n",
    "rank = 64\n",
    "peft_config = LoraConfig(inference_mode=False,\n",
    "            r=rank,\n",
    "            lora_alpha=rank*2,\n",
    "            lora_dropout=0.05,\n",
    "            target_modules=['value','query','key', 'dense']\n",
    "            )\n",
    "\n",
    "training_args = {'use_allnli': True, 'peft_config': peft_config}\n",
    "modeltraining.main(training_args)"
   ]
  },
  {
   "cell_type": "code",
   "execution_count": null,
   "metadata": {},
   "outputs": [],
   "source": []
  }
 ],
 "metadata": {
  "kernelspec": {
   "display_name": "amazon",
   "language": "python",
   "name": "python3"
  },
  "language_info": {
   "codemirror_mode": {
    "name": "ipython",
    "version": 3
   },
   "file_extension": ".py",
   "mimetype": "text/x-python",
   "name": "python",
   "nbconvert_exporter": "python",
   "pygments_lexer": "ipython3",
   "version": "3.9.16"
  },
  "orig_nbformat": 4
 },
 "nbformat": 4,
 "nbformat_minor": 2
}

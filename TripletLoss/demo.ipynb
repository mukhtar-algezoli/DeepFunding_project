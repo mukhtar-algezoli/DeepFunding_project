{
 "cells": [
  {
   "cell_type": "code",
   "execution_count": 1,
   "metadata": {},
   "outputs": [
    {
     "name": "stdout",
     "output_type": "stream",
     "text": [
      "Loading LoRa model From HuggingFace Hub...:  ammarnasr/LoRa_LoRa_all-mpnet-base-v2_rank_16\n",
      "trainable params: 1499136 || all params: 110985600 || trainable%: 1.350748205172563\n"
     ]
    }
   ],
   "source": [
    "from network import get_sts_model\n",
    "from peft import LoraConfig\n",
    "device = 'cuda'\n",
    "rank = 16\n",
    "peft_config = LoraConfig(r=rank, lora_alpha=rank*2, lora_dropout=0.05, target_modules=['value','query','key', 'dense'])\n",
    "model_path ='ammarnasr/LoRa_LoRa_all-mpnet-base-v2_rank_16'\n",
    "\n",
    "model = get_sts_model(model_path, device, peft_config)"
   ]
  },
  {
   "cell_type": "code",
   "execution_count": 2,
   "metadata": {},
   "outputs": [
    {
     "data": {
      "application/vnd.jupyter.widget-view+json": {
       "model_id": "6f980bf0bc784e36914b5f14d148f36e",
       "version_major": 2,
       "version_minor": 0
      },
      "text/plain": [
       "Creating triplets:   0%|          | 0/14 [00:00<?, ?group/s]"
      ]
     },
     "metadata": {},
     "output_type": "display_data"
    }
   ],
   "source": [
    "from modeltraining import get_train_eval_test_data, triplets_df_to_single_df\n",
    "data_path='./dataset/data.csv'\n",
    "train_df, val_df, test_df = get_train_eval_test_data(data_path)\n",
    "val_single_df = triplets_df_to_single_df(val_df)\n",
    "val_single_df = val_single_df.sample(frac=1).reset_index(drop=True)\n",
    "train_single_df = triplets_df_to_single_df(train_df)"
   ]
  },
  {
   "cell_type": "code",
   "execution_count": null,
   "metadata": {},
   "outputs": [],
   "source": [
    "from tqdm.auto import tqdm\n",
    "import numpy as np\n",
    "embeddings = []\n",
    "sentences = val_single_df['sentence'].tolist()\n",
    "labels = val_single_df['group']\n",
    "for sentence in tqdm(sentences, unit='sentence', desc='Generating embeddings'):\n",
    "    embedding = model(sentence).detach().cpu().numpy()\n",
    "    embeddings.append(embedding)\n",
    "embeddings = np.array(embeddings).squeeze()"
   ]
  },
  {
   "cell_type": "code",
   "execution_count": null,
   "metadata": {},
   "outputs": [],
   "source": [
    "from sklearn.metrics.pairwise import cosine_distances\n",
    "import numpy as np\n"
   ]
  },
  {
   "cell_type": "code",
   "execution_count": null,
   "metadata": {},
   "outputs": [],
   "source": []
  },
  {
   "cell_type": "code",
   "execution_count": null,
   "metadata": {},
   "outputs": [],
   "source": [
    "\n",
    "\n",
    "def calculate_accuracy_from_embeddings(embeddings, labels):\n",
    "    total = 0\n",
    "    correct = 0\n",
    "    unique_groups = labels.unique()\n",
    "    avarage_group_embeddings = []\n",
    "    for group in unique_groups:\n",
    "        group_indices = labels[labels == group].index\n",
    "        group_embeddings = embeddings[group_indices]\n",
    "        avarage_group_embeddings.append(group_embeddings.mean(axis=0))\n",
    "    avarage_group_embeddings = np.array(avarage_group_embeddings)\n",
    "    for i, embedding in enumerate(embeddings):\n",
    "        total += 1\n",
    "        distances = cosine_distances([embedding], avarage_group_embeddings)\n",
    "        if np.argmin(distances)+1 == labels[i]:\n",
    "            correct += 1    \n",
    "    acc  = correct / total\n",
    "    print(f'Accuracy: {acc*100:.2f}%')\n",
    "    return acc*100"
   ]
  },
  {
   "cell_type": "code",
   "execution_count": null,
   "metadata": {},
   "outputs": [],
   "source": []
  },
  {
   "cell_type": "code",
   "execution_count": null,
   "metadata": {},
   "outputs": [],
   "source": [
    "calculate_accuracy_from_embeddings(embeddings, labels)"
   ]
  },
  {
   "cell_type": "code",
   "execution_count": null,
   "metadata": {},
   "outputs": [],
   "source": [
    "from sklearn.manifold import TSNE\n",
    "embeddings_2d = TSNE(n_components=2).fit_transform(embeddings)"
   ]
  },
  {
   "cell_type": "code",
   "execution_count": null,
   "metadata": {},
   "outputs": [],
   "source": [
    "import matplotlib.pyplot as plt\n",
    "def compare_sactter_plots(embeddings_2d_1, embeddings_2d_2, ids,save_fig_name=None,title1= 'bare model', title2 = 'tuned model', cmap_name='tab20', show=True):\n",
    "    unique_ids = set(ids)\n",
    "    colors = plt.cm.get_cmap(cmap_name, len(unique_ids))\n",
    "    id_color_map = {id: colors(i) for i, id in enumerate(unique_ids)}\n",
    "    # Visualize the embeddings colored by their ids with a legend of node names\n",
    "    if embeddings_2d_2 is not None:\n",
    "        fig, ax = plt.subplots(2, figsize=(8, 10))\n",
    "    else:\n",
    "        fig, ax = plt.subplots(figsize=(8, 8))\n",
    "        ax = [ax]\n",
    "\n",
    "    scatter1 = ax[0].scatter(embeddings_2d_1[:, 0], embeddings_2d_1[:, 1], c=ids, cmap=cmap_name)\n",
    "    ax[0].set_title(title1)\n",
    "\n",
    "    if embeddings_2d_2 is not None:\n",
    "        scatter2 = ax[1].scatter(embeddings_2d_2[:, 0], embeddings_2d_2[:, 1], c=ids, cmap=cmap_name)\n",
    "        ax[1].set_title(title2)\n",
    "\n",
    "    legend_labels = [plt.Line2D([], [], marker='o', color=id_color_map[id], markersize=5, label=id) for id in unique_ids]\n",
    "    fig.legend(handles=legend_labels, loc='center', bbox_to_anchor=(0.5, 1.05), ncol=3)\n",
    "    plt.tight_layout()\n",
    "    if show:\n",
    "        plt.show()\n",
    "\n",
    "    if save_fig_name is not None:\n",
    "        plt.savefig(save_fig_name)\n"
   ]
  },
  {
   "cell_type": "code",
   "execution_count": null,
   "metadata": {},
   "outputs": [],
   "source": [
    "compare_sactter_plots(embeddings_2d, None, labels)"
   ]
  },
  {
   "cell_type": "code",
   "execution_count": null,
   "metadata": {},
   "outputs": [],
   "source": []
  }
 ],
 "metadata": {
  "kernelspec": {
   "display_name": "amazon",
   "language": "python",
   "name": "python3"
  },
  "language_info": {
   "codemirror_mode": {
    "name": "ipython",
    "version": 3
   },
   "file_extension": ".py",
   "mimetype": "text/x-python",
   "name": "python",
   "nbconvert_exporter": "python",
   "pygments_lexer": "ipython3",
   "version": "3.9.16"
  },
  "orig_nbformat": 4
 },
 "nbformat": 4,
 "nbformat_minor": 2
}

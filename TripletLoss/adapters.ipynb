{
 "cells": [
  {
   "cell_type": "code",
   "execution_count": null,
   "metadata": {},
   "outputs": [],
   "source": [
    "from modeltraining import main\n",
    "from peft import LoraConfig\n",
    "\n",
    "rank = 64\n",
    "peft_config = LoraConfig(r=rank, lora_alpha=rank*2, lora_dropout=0.05, target_modules=['value','query','key', 'dense'])\n",
    "args_dict = {\n",
    "    'model_path': 'sentence-transformers/all-MiniLM-L12-v1',\n",
    "    'data_path': './dataset/data.csv',\n",
    "    'device': 'cuda',\n",
    "    'peft_config': peft_config,\n",
    "    'batch_size': 4,\n",
    "    'lr': 1e-5,\n",
    "    'num_epochs': 20,\n",
    "    'max_len': 200,\n",
    "    'eval_every': 1000,\n",
    "    'save_model_every': 1000,\n",
    "    'save_model_path': './models/LoRa',\n",
    "}"
   ]
  },
  {
   "cell_type": "code",
   "execution_count": null,
   "metadata": {},
   "outputs": [],
   "source": [
    "main(args_dict, use_argparse=False)"
   ]
  },
  {
   "cell_type": "code",
   "execution_count": null,
   "metadata": {},
   "outputs": [],
   "source": []
  }
 ],
 "metadata": {
  "kernelspec": {
   "display_name": "amazon",
   "language": "python",
   "name": "python3"
  },
  "language_info": {
   "codemirror_mode": {
    "name": "ipython",
    "version": 3
   },
   "file_extension": ".py",
   "mimetype": "text/x-python",
   "name": "python",
   "nbconvert_exporter": "python",
   "pygments_lexer": "ipython3",
   "version": "3.9.16"
  },
  "orig_nbformat": 4
 },
 "nbformat": 4,
 "nbformat_minor": 2
}
